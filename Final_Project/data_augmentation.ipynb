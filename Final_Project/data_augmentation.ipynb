{
 "cells": [
  {
   "cell_type": "markdown",
   "metadata": {},
   "source": [
    "# Do not execute the code. GPT charges have been applied."
   ]
  },
  {
   "cell_type": "code",
   "execution_count": 13,
   "metadata": {},
   "outputs": [
    {
     "name": "stderr",
     "output_type": "stream",
     "text": [
      "huggingface/tokenizers: The current process just got forked, after parallelism has already been used. Disabling parallelism to avoid deadlocks...\n",
      "To disable this warning, you can either:\n",
      "\t- Avoid using `tokenizers` before the fork if possible\n",
      "\t- Explicitly set the environment variable TOKENIZERS_PARALLELISM=(true | false)\n"
     ]
    },
    {
     "name": "stdout",
     "output_type": "stream",
     "text": [
      "Collecting openai==0.28\n",
      "  Downloading openai-0.28.0-py3-none-any.whl.metadata (13 kB)\n",
      "Requirement already satisfied: requests>=2.20 in /Users/hahyeonji/Desktop/UMich/FA24/SI650/Homework/.venv/lib/python3.12/site-packages (from openai==0.28) (2.32.3)\n",
      "Requirement already satisfied: tqdm in /Users/hahyeonji/Desktop/UMich/FA24/SI650/Homework/.venv/lib/python3.12/site-packages (from openai==0.28) (4.66.5)\n",
      "Requirement already satisfied: aiohttp in /Users/hahyeonji/Desktop/UMich/FA24/SI650/Homework/.venv/lib/python3.12/site-packages (from openai==0.28) (3.11.7)\n",
      "Requirement already satisfied: charset-normalizer<4,>=2 in /Users/hahyeonji/Desktop/UMich/FA24/SI650/Homework/.venv/lib/python3.12/site-packages (from requests>=2.20->openai==0.28) (3.4.0)\n",
      "Requirement already satisfied: idna<4,>=2.5 in /Users/hahyeonji/Desktop/UMich/FA24/SI650/Homework/.venv/lib/python3.12/site-packages (from requests>=2.20->openai==0.28) (3.4)\n",
      "Requirement already satisfied: urllib3<3,>=1.21.1 in /Users/hahyeonji/Desktop/UMich/FA24/SI650/Homework/.venv/lib/python3.12/site-packages (from requests>=2.20->openai==0.28) (2.2.3)\n",
      "Requirement already satisfied: certifi>=2017.4.17 in /Users/hahyeonji/Desktop/UMich/FA24/SI650/Homework/.venv/lib/python3.12/site-packages (from requests>=2.20->openai==0.28) (2023.7.22)\n",
      "Requirement already satisfied: aiohappyeyeballs>=2.3.0 in /Users/hahyeonji/Desktop/UMich/FA24/SI650/Homework/.venv/lib/python3.12/site-packages (from aiohttp->openai==0.28) (2.4.3)\n",
      "Requirement already satisfied: aiosignal>=1.1.2 in /Users/hahyeonji/Desktop/UMich/FA24/SI650/Homework/.venv/lib/python3.12/site-packages (from aiohttp->openai==0.28) (1.3.1)\n",
      "Requirement already satisfied: attrs>=17.3.0 in /Users/hahyeonji/Desktop/UMich/FA24/SI650/Homework/.venv/lib/python3.12/site-packages (from aiohttp->openai==0.28) (24.2.0)\n",
      "Requirement already satisfied: frozenlist>=1.1.1 in /Users/hahyeonji/Desktop/UMich/FA24/SI650/Homework/.venv/lib/python3.12/site-packages (from aiohttp->openai==0.28) (1.5.0)\n",
      "Requirement already satisfied: multidict<7.0,>=4.5 in /Users/hahyeonji/Desktop/UMich/FA24/SI650/Homework/.venv/lib/python3.12/site-packages (from aiohttp->openai==0.28) (6.1.0)\n",
      "Requirement already satisfied: propcache>=0.2.0 in /Users/hahyeonji/Desktop/UMich/FA24/SI650/Homework/.venv/lib/python3.12/site-packages (from aiohttp->openai==0.28) (0.2.0)\n",
      "Requirement already satisfied: yarl<2.0,>=1.17.0 in /Users/hahyeonji/Desktop/UMich/FA24/SI650/Homework/.venv/lib/python3.12/site-packages (from aiohttp->openai==0.28) (1.18.0)\n",
      "Downloading openai-0.28.0-py3-none-any.whl (76 kB)\n",
      "Installing collected packages: openai\n",
      "  Attempting uninstall: openai\n",
      "    Found existing installation: openai 1.55.1\n",
      "    Uninstalling openai-1.55.1:\n",
      "      Successfully uninstalled openai-1.55.1\n",
      "Successfully installed openai-0.28.0\n",
      "\n",
      "\u001b[1m[\u001b[0m\u001b[34;49mnotice\u001b[0m\u001b[1;39;49m]\u001b[0m\u001b[39;49m A new release of pip is available: \u001b[0m\u001b[31;49m24.2\u001b[0m\u001b[39;49m -> \u001b[0m\u001b[32;49m24.3.1\u001b[0m\n",
      "\u001b[1m[\u001b[0m\u001b[34;49mnotice\u001b[0m\u001b[1;39;49m]\u001b[0m\u001b[39;49m To update, run: \u001b[0m\u001b[32;49mpip install --upgrade pip\u001b[0m\n",
      "Note: you may need to restart the kernel to use updated packages.\n"
     ]
    }
   ],
   "source": [
    "pip install openai==0.28\n"
   ]
  },
  {
   "cell_type": "code",
   "execution_count": null,
   "metadata": {},
   "outputs": [
    {
     "name": "stderr",
     "output_type": "stream",
     "text": [
      "100%|██████████| 8806/8806 [1:24:02<00:00,  1.75it/s]     \n"
     ]
    },
    {
     "name": "stdout",
     "output_type": "stream",
     "text": [
      "\n",
      "Sample Results:\n",
      "                                      company                                                                                                                                                                                                                                                                                                                                                                                                                                                                                                                                                                                                                                                                                                                                                                                                                                                                                                                                                                                                                                                                                                                                                           answer\n",
      "0  Hogwarts School of Witchcraft and Wizardry                                                                                                                                                                                                                                                                                                                                                                                                                                                                                                                                                                                          Company Name: Hogwarts School of Witchcraft and Wizardry\\n\\nIndustry: Education\\n\\nScale: Large\\n\\nCore Services: Providing magical education to young witches and wizards in subjects such as Potions, Transfiguration, and Defense Against the Dark Arts.\\n\\nOperational Status: Hogwarts School of Witchcraft and Wizardry is a fictional institution featured in the Harry Potter series created by J.K. Rowling.\\n\\nNotable Achievements: Notable for producing skilled magical practitioners and playing a crucial role in the defeat of the Dark Lord Voldemort.\n",
      "1                             Ohio University                                                                                                                                                                                                                                                                                                                                                                                                                                                                                                                                                                                                      Ohio University is a public research university located in Athens, Ohio, United States. It is a large-scale institution offering a wide range of undergraduate and graduate programs in various fields such as business, engineering, health sciences, and arts. The university is currently operational and has a strong focus on research, innovation, and community engagement. Notable achievements include being ranked among the top public universities in the U.S. and having a strong reputation for academic excellence and student satisfaction.\n",
      "2                              Chartpak, Inc.                                                                                                                                                                                                                                                                         **Company Profile: Chartpak, Inc.**\\n\\n**Industry:** Art supply manufacturing and distribution.\\n\\n**Scale:** Large.\\n\\n**Core Services/Products:** Chartpak, Inc. is a leading manufacturer and distributor of high-quality art supplies, including markers, paints, adhesives, and drafting tools.\\n\\n**Current Operational Status:** The company is currently operational and serving customers worldwide.\\n\\n**Growth Focus:** Chartpak, Inc. focuses on expanding its product line, enhancing distribution networks, and exploring new markets to sustain its growth in the art supply industry.\\n\\n**Notable Achievements:** Chartpak, Inc. has a strong reputation for innovation and quality, with several of its products becoming industry standards. The company has also received recognition for its commitment to sustainability practices in manufacturing and packaging.\n",
      "3                 Indiana Wesleyan University                                                                                                                                                                                                                                                                                                                                                                                                                                                                                                                                                                                                                                                      Indiana Wesleyan University is a private Christian university located in Marion, Indiana, USA. It is a medium-sized institution offering undergraduate and graduate programs in various fields, including business, education, nursing, and psychology. The university is currently operational and focuses on providing high-quality education with a Christian perspective. Notable achievements include being ranked as one of the top regional universities in the Midwest by U.S. News & World Report.\n",
      "4                                    Michaels  Company: Michaels Stores, Inc.\\n\\nIndustry: Retail (Arts and Crafts)\\n\\nScale: Large\\n\\nCore Services or Products: Michaels is a leading arts and crafts retail chain that offers a wide range of products including art supplies, crafting materials, home décor, and seasonal items. They also provide crafting classes and workshops for customers of all skill levels.\\n\\nCurrent Operational Status: Michaels operates over 1,250 stores across the United States and Canada, making it one of the largest specialty retailers in the arts and crafts industry.\\n\\nGrowth Focus: Michaels has been focusing on expanding its e-commerce capabilities to meet the growing demand for online shopping in the arts and crafts sector. They are also investing in enhancing their in-store customer experience through innovative initiatives.\\n\\nNotable Achievements: Michaels has a long-standing reputation for offering a diverse selection of quality products at competitive prices. The company has received recognition for its commitment to creativity, community engagement, and supporting the arts through various initiatives and partnerships.\n"
     ]
    }
   ],
   "source": [
    "import openai\n",
    "import pandas as pd\n",
    "from tqdm import tqdm\n",
    "\n",
    "# OpenAI API Key *** Do not share your API key publicly ***\n",
    "openai.api_key = \"Open_API_key_cannot_be_disclosed.\"\n",
    "\n",
    "# load the data\n",
    "df = pd.read_csv('./updated_jobs_location_final.csv', encoding='utf-8')\n",
    "company_list = df['company'].unique()\n",
    "\n",
    "# initialize the result DataFrame\n",
    "result = pd.DataFrame(columns=['company', 'answer'])\n",
    "answer_list = []\n",
    "\n",
    "# Generate an answer using OpenAI GPT\n",
    "def generate_answer(company):\n",
    "    prompt = (\n",
    "        f\"Provide a detailed profile for the company named '{company}' in English. \"\n",
    "        f\"The response should include the company's industry, scale (e.g., small, medium, or large), core services or products, \"\n",
    "        f\"current operational status, growth focus, and any notable achievements. \"\n",
    "        f\"Make the answer at least 2-3 sentences long.\"\n",
    "    )\n",
    "    try:\n",
    "        response = openai.ChatCompletion.create(\n",
    "            model=\"gpt-3.5-turbo\",\n",
    "            messages=[\n",
    "                {\"role\": \"system\", \"content\": \"You are an assistant providing detailed and accurate company profiles in English.\"},\n",
    "                {\"role\": \"user\", \"content\": prompt},\n",
    "            ],\n",
    "            max_tokens=500,\n",
    "            temperature=0.7\n",
    "        )\n",
    "        answer = response['choices'][0]['message']['content'].strip()\n",
    "    except openai.error.OpenAIError as e:\n",
    "        answer = f\"Error generating response: {e}\"\n",
    "    \n",
    "    return answer\n",
    "\n",
    "# Generate an answer for each company\n",
    "for company in tqdm(company_list):\n",
    "    answer = generate_answer(company)\n",
    "    answer_list.append(answer)\n",
    "\n",
    "# Save the results to a DataFrame\n",
    "result['company'] = company_list\n",
    "result['answer'] = answer_list\n",
    "\n",
    "# Save the results to a CSV file\n",
    "result.to_csv('company_info_detailed_final.csv', index=False, encoding='utf-8-sig')\n",
    "\n",
    "print(\"\\nSample Results:\")\n",
    "print(result.head().to_string())\n"
   ]
  }
 ],
 "metadata": {
  "kernelspec": {
   "display_name": ".venv",
   "language": "python",
   "name": "python3"
  },
  "language_info": {
   "codemirror_mode": {
    "name": "ipython",
    "version": 3
   },
   "file_extension": ".py",
   "mimetype": "text/x-python",
   "name": "python",
   "nbconvert_exporter": "python",
   "pygments_lexer": "ipython3",
   "version": "3.12.5"
  }
 },
 "nbformat": 4,
 "nbformat_minor": 2
}
